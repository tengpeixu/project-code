{
 "cells": [
  {
   "cell_type": "code",
   "execution_count": 1,
   "metadata": {},
   "outputs": [],
   "source": [
    "import numpy as np\n",
    "import random\n",
    "from tqdm import tqdm\n",
    "import math"
   ]
  },
  {
   "cell_type": "code",
   "execution_count": 2,
   "metadata": {},
   "outputs": [],
   "source": [
    "def weight(x1,x2,x3,a,w=1): # 输入整个数组，选择的点来计算weight 变化\n",
    "    S_x = (x3-x2)**2 / (2 * a * w) + a * w * (x3**2+x2**2)/4 + (x2-x1)**2 / (2 * a * w) + a * w* (x2**2+x1**2)/4\n",
    "    W = np.exp(-S_x)\n",
    "    return w"
   ]
  },
  {
   "cell_type": "code",
   "execution_count": 4,
   "metadata": {},
   "outputs": [],
   "source": [
    "def generator(N_con,N_skip,N_dump,N,a,delta_u):\n",
    "    U = np.zeros([N_con*N_skip+N_dump,N]) # 整个路径集\n",
    "    x = np.zeros(N)\n",
    "    y = x.copy()\n",
    "    order = np.zeros(N)\n",
    "    for i in range(len(order)):\n",
    "        order[i] = i\n",
    "    for i in tqdm(range (N_con*N_skip+N_dump)):\n",
    "        random.shuffle(order)\n",
    "        for k in range(N):\n",
    "            j = int(order[k])\n",
    "            y[j] = x[j] + delta_u * (1 - 2 * np.random.rand())\n",
    "            if np.random.rand() <= weight(y[(j-1)%N],y[j],y[(j+1)%N],a)/weight(x[(j-1)%N],x[j],x[(j+1)%N],a):\n",
    "                x[j] = y[j]\n",
    "            else:\n",
    "                y[j] = x[j]\n",
    "        U[i,:] = x\n",
    "    U_real = U[N_dump::N_skip,::] #去除未达到平衡的点并跳过相关联的点\n",
    "    return U_real"
   ]
  },
  {
   "cell_type": "code",
   "execution_count": 5,
   "metadata": {},
   "outputs": [
    {
     "name": "stderr",
     "output_type": "stream",
     "text": [
      "100%|██████████| 501000/501000 [00:03<00:00, 150764.24it/s]\n",
      "100%|██████████| 25/25 [00:00<00:00, 131.34it/s]\n"
     ]
    }
   ],
   "source": [
    "N_con = 10000\n",
    "N_skip = 50\n",
    "N_dump = 1000\n",
    "N = 1\n",
    "a =0.1\n",
    "delta_x = 0.5\n",
    "U = generator(N_con,N_skip,N_dump,N,a,delta_x)\n",
    "np.savetxt('Paths.txt',U,newline = '\\n')\n",
    "C_2 = np.zeros([25,N_con])\n",
    "C_2std = np.zeros(25)\n",
    "for i in tqdm(range(25)):\n",
    "    for j in range(N_con):\n",
    "        for k in range(N):\n",
    "            C_2[i,j] = C_2[i,j] + U[j,k]*U[j,(k+i)%N]/N #对时间起点求平均\n",
    "np.savetxt('C_2.txt', C_2.T,newline = '\\n')"
   ]
  },
  {
   "cell_type": "code",
   "execution_count": 6,
   "metadata": {},
   "outputs": [
    {
     "data": {
      "text/plain": [
       "(19862.981023709926, 124.10867419574613)"
      ]
     },
     "execution_count": 6,
     "metadata": {},
     "output_type": "execute_result"
    }
   ],
   "source": [
    "U_sqr = np.power(U,2)\n",
    "x_2= np.mean(U_sqr) #基态能量\n",
    "delta_x = np.std(U_sqr)/(N_con)**0.5\n",
    "x_2,delta_x"
   ]
  },
  {
   "cell_type": "code",
   "execution_count": 7,
   "metadata": {},
   "outputs": [
    {
     "name": "stderr",
     "output_type": "stream",
     "text": [
      "100%|██████████| 25/25 [00:00<00:00, 136.43it/s]\n"
     ]
    },
    {
     "ename": "ValueError",
     "evalue": "cannot reshape array of size 10000 into shape (1,25)",
     "output_type": "error",
     "traceback": [
      "\u001b[1;31m---------------------------------------------------------------------------\u001b[0m",
      "\u001b[1;31mValueError\u001b[0m                                Traceback (most recent call last)",
      "Cell \u001b[1;32mIn[7], line 9\u001b[0m\n\u001b[0;32m      7\u001b[0m             C_2[i,j] \u001b[38;5;241m=\u001b[39m C_2[i,j] \u001b[38;5;241m+\u001b[39m U[j,k]\u001b[38;5;241m*\u001b[39mU[j,(k\u001b[38;5;241m+\u001b[39mi)\u001b[38;5;241m%\u001b[39mN]\u001b[38;5;241m/\u001b[39mN \u001b[38;5;66;03m#对时间起点求平均\u001b[39;00m\n\u001b[0;32m      8\u001b[0m temp \u001b[38;5;241m=\u001b[39m C_2\u001b[38;5;241m.\u001b[39mcopy()\n\u001b[1;32m----> 9\u001b[0m C_2 \u001b[38;5;241m=\u001b[39m (np\u001b[38;5;241m.\u001b[39msum(temp,axis \u001b[38;5;241m=\u001b[39m \u001b[38;5;241m0\u001b[39m)\u001b[38;5;241m.\u001b[39mreshape(\u001b[38;5;241m1\u001b[39m,\u001b[38;5;241m25\u001b[39m)\u001b[38;5;241m-\u001b[39mtemp)\u001b[38;5;241m/\u001b[39m(N_con\u001b[38;5;241m-\u001b[39m\u001b[38;5;241m1\u001b[39m) \u001b[38;5;66;03m#jackknife.\u001b[39;00m\n\u001b[0;32m     10\u001b[0m C_2mean \u001b[38;5;241m=\u001b[39m np\u001b[38;5;241m.\u001b[39mmean(C_2,axis \u001b[38;5;241m=\u001b[39m \u001b[38;5;241m0\u001b[39m)\n\u001b[0;32m     11\u001b[0m C_2std \u001b[38;5;241m=\u001b[39m np\u001b[38;5;241m.\u001b[39mstd(C_2,axis \u001b[38;5;241m=\u001b[39m \u001b[38;5;241m0\u001b[39m)\u001b[38;5;241m*\u001b[39mnp\u001b[38;5;241m.\u001b[39msqrt(N_con\u001b[38;5;241m-\u001b[39m\u001b[38;5;241m1\u001b[39m)\n",
      "\u001b[1;31mValueError\u001b[0m: cannot reshape array of size 10000 into shape (1,25)"
     ]
    }
   ],
   "source": [
    "C_2 = np.zeros([25,N_con])\n",
    "\n",
    "C_2std = np.zeros(25)\n",
    "for i in tqdm(range(25)):\n",
    "    for j in range(N_con):\n",
    "        for k in range(N):\n",
    "            C_2[i,j] = C_2[i,j] + U[j,k]*U[j,(k+i)%N]/N #对时间起点求平均\n",
    "temp = C_2.copy()\n",
    "C_2 = (np.sum(temp,axis = 0).reshape(1,25)-temp)/(N_con-1) #jackknife.\n",
    "C_2mean = np.mean(C_2,axis = 0)\n",
    "C_2std = np.std(C_2,axis = 0)*np.sqrt(N_con-1)\n",
    "t = np.arange(25)\n",
    "eff_m = np.log(C_2[:,:-1]/C_2[:,1:])/0.1"
   ]
  }
 ],
 "metadata": {
  "kernelspec": {
   "display_name": ".conda",
   "language": "python",
   "name": "python3"
  },
  "language_info": {
   "codemirror_mode": {
    "name": "ipython",
    "version": 3
   },
   "file_extension": ".py",
   "mimetype": "text/x-python",
   "name": "python",
   "nbconvert_exporter": "python",
   "pygments_lexer": "ipython3",
   "version": "3.11.11"
  }
 },
 "nbformat": 4,
 "nbformat_minor": 2
}
